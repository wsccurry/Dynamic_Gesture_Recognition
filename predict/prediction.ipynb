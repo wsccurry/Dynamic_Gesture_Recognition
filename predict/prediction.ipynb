{
 "cells": [
  {
   "cell_type": "code",
   "execution_count": 3,
   "metadata": {
    "collapsed": true
   },
   "outputs": [
    {
     "name": "stdout",
     "output_type": "stream",
     "text": [
      "5折交叉验证：\n0.982142857143\n4：1随机分割训练集和验证集结果:\n0.985714285714\n             precision    recall  f1-score   support\n\n          0       1.00      1.00      1.00         9\n          1       1.00      1.00      1.00         9\n          2       1.00      1.00      1.00         7\n          3       1.00      1.00      1.00        11\n          4       1.00      0.93      0.97        15\n          5       1.00      1.00      1.00         8\n          6       0.92      1.00      0.96        11\n\navg / total       0.99      0.99      0.99        70\n\n"
     ]
    }
   ],
   "source": [
    "import pandas as pd\n",
    "import sklearn as svm\n",
    "from sklearn.cross_validation import cross_val_score\n",
    "from sklearn.svm import SVC\n",
    "from sklearn.linear_model import LogisticRegression\n",
    "\n",
    "data=pd.read_csv('Dynamic_Gesture_Recognition/data.csv')\n",
    "X_train=data[['0_Proportion','1_Proportion','2_Proportion','3_Proportion','4_Proportion','5_Proportion','6_Proportion','7_Proportion']]\n",
    "y_train=data['label']\n",
    "svc=SVC(gamma=1,C=800,kernel='rbf')\n",
    "lr=LogisticRegression()\n",
    "print(\"5折交叉验证：\")\n",
    "print(cross_val_score(svc,X_train,y_train,cv=5).mean())\n",
    "#print(cross_val_score(lr,X_train,y_train,cv=5).mean())\n",
    "from sklearn.cross_validation import train_test_split\n",
    "X_train,X_test,y_train,y_test=train_test_split(X_train,y_train,test_size=0.25,random_state=10)\n",
    "svc.fit(X_train,y_train)\n",
    "y_pred=svc.predict(X_test)\n",
    "print(\"4：1随机分割训练集和验证集结果:\")\n",
    "print(svc.score(X_test,y_test))\n",
    "from sklearn.metrics import classification_report\n",
    "print(classification_report(y_test,y_pred))"
   ]
  },
  {
   "cell_type": "code",
   "execution_count": null,
   "metadata": {},
   "outputs": [],
   "source": []
  }
 ],
 "metadata": {
  "kernelspec": {
   "display_name": "Python 2",
   "language": "python",
   "name": "python2"
  },
  "language_info": {
   "codemirror_mode": {
    "name": "ipython",
    "version": 2
   },
   "file_extension": ".py",
   "mimetype": "text/x-python",
   "name": "python",
   "nbconvert_exporter": "python",
   "pygments_lexer": "ipython2",
   "version": "2.7.6"
  }
 },
 "nbformat": 4,
 "nbformat_minor": 0
}
