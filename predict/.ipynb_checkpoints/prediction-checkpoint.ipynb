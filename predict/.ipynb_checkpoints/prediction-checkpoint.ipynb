{
 "cells": [
  {
   "cell_type": "code",
   "execution_count": 1,
   "metadata": {
    "collapsed": true
   },
   "outputs": [],
   "source": [
    "import pandas as pd\n",
    "import sklearn as svm\n",
    "from sklearn.cross_validation import cross_val_score\n",
    "from sklearn.svm import SVC\n",
    "from sklearn.linear_model import LogisticRegression\n",
    "\n",
    "data=pd.read_csv('./data.csv')\n",
    "X_train=data[['0_Proportion','1_Proportion','2_Proportion','3_Proportion','4_Proportion','5_Proportion','6_Proportion','7_Proportion']]\n",
    "y_train=data['label']\n",
    "svc=SVC(gamma=1,C=800,kernel='rbf')\n",
    "lr=LogisticRegression()\n",
    "print(cross_val_score(svc,X_train,y_train,cv=5).mean())\n",
    "#print(cross_val_score(lr,X_train,y_train,cv=5).mean())\n",
    "from sklearn.cross_validation import train_test_split\n",
    "X_train,X_test,y_train,y_test=train_test_split(X_train,y_train,test_size=0.25,random_state=10)\n",
    "svc.fit(X_train,y_train)\n",
    "y_pred=svc.predict(X_test)\n",
    "print(svc.score(X_test,y_test))"
   ]
  }
 ],
 "metadata": {
  "kernelspec": {
   "display_name": "Python 3",
   "language": "python",
   "name": "python3"
  },
  "language_info": {
   "codemirror_mode": {
    "name": "ipython",
    "version": 3
   },
   "file_extension": ".py",
   "mimetype": "text/x-python",
   "name": "python",
   "nbconvert_exporter": "python",
   "pygments_lexer": "ipython3",
   "version": "3.6.2"
  }
 },
 "nbformat": 4,
 "nbformat_minor": 1
}
